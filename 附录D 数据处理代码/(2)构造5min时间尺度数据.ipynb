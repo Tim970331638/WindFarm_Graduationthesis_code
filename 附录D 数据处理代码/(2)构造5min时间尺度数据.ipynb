{
 "cells": [
  {
   "cell_type": "markdown",
   "metadata": {},
   "source": [
    "基于线性假设的线性插值——为了满足10min功率变化考核量"
   ]
  },
  {
   "cell_type": "code",
   "execution_count": 3,
   "metadata": {},
   "outputs": [
    {
     "name": "stderr",
     "output_type": "stream",
     "text": [
      "Interpolating: 100%|██████████| 35039/35039 [01:50<00:00, 317.58it/s]\n"
     ]
    }
   ],
   "source": [
    "import numpy as np\n",
    "import pandas as pd\n",
    "from tqdm import tqdm\n",
    "\n",
    "data = pd.read_csv(\"std_data.csv\")\n",
    "\n",
    "df = pd.DataFrame(data)\n",
    "\n",
    "# 合并日期和时间为单一的datetime列\n",
    "df['Datetime_'] = pd.to_datetime(df['Datetime'] + ' ' + df['time'])\n",
    "df.drop(['Datetime', 'time'], axis=1, inplace=True)\n",
    "\n",
    "# 将Datetime设置为索引\n",
    "df.set_index('Datetime_', inplace=True)\n",
    "\n",
    "# 对数据进行升序排序\n",
    "df.sort_index(ascending=True, inplace=True)\n",
    "\n",
    "# 初始化一个空的DataFrame来存储插值后的结果\n",
    "columns = df.columns\n",
    "interpolated_data = pd.DataFrame(columns=columns)\n",
    "\n",
    "# 遍历原始数据进行插值\n",
    "for i in tqdm(range(len(df) - 1), desc='Interpolating'):\n",
    "    row1 = df.iloc[i]\n",
    "    row2 = df.iloc[i + 1]\n",
    "    diff = (row2 - row1) / 3  # 计算差值，并按1/3和2/3的比例进行分配\n",
    "    \n",
    "    # 生成两个新的时间点\n",
    "    time1 = df.index[i] + pd.Timedelta(minutes=5)\n",
    "    time2 = df.index[i] + pd.Timedelta(minutes=10)\n",
    "    \n",
    "    # 计算插值后的数据\n",
    "    interpolated_row1 = row1 + diff\n",
    "    interpolated_row2 = row1 + 2 * diff\n",
    "    \n",
    "    # 将插值后的数据添加到结果DataFrame中\n",
    "    interpolated_data = pd.concat([interpolated_data, pd.DataFrame(interpolated_row1).transpose().set_index(pd.Index([time1]))])\n",
    "    interpolated_data = pd.concat([interpolated_data, pd.DataFrame(interpolated_row2).transpose().set_index(pd.Index([time2]))])\n",
    "\n",
    "# 调整interpolated_data的index类型\n",
    "interpolated_data.index = pd.to_datetime(interpolated_data.index)\n",
    "\n",
    "# 将插值后的数据与原始数据合并，并按时间排序\n",
    "final_data = pd.concat([df, interpolated_data]).sort_index()\n",
    "\n",
    "final_data.to_csv(\"std_data_5min.csv\")"
   ]
  },
  {
   "cell_type": "code",
   "execution_count": 4,
   "metadata": {},
   "outputs": [],
   "source": [
    "import pandas as pd\n",
    "import numpy as np\n",
    "PReal = pd.DataFrame(pd.read_csv('std_data_5min.csv'))[\"std_realpower\"]\n",
    "Pust = pd.DataFrame(pd.read_csv('std_data_5min.csv'))[\"std_ust_predpower\"]\n",
    "\n",
    "\n",
    "# 构造10min考核点\n",
    "# 由5min构造10min考核点时，由于是后向平均，需要用i点和i点前一个数据求和除以二\n",
    "# 105119\n",
    "PReal = np.array(PReal)  # 确保PReal是一个numpy数组\n",
    "averagesPReal = (PReal[:-1] + PReal[1:]) / 2.0\n",
    "averagesPReal = np.append(averagesPReal, averagesPReal[-1]) # 求平均会缺一个数据，复制一个最后数据，保持数组长度一致\n",
    "\n",
    "Pust = np.array(Pust)  # 确保PReal是一个numpy数组\n",
    "averagesPPust = (Pust[:-1] + Pust[1:]) / 2.0\n",
    "averagesPPust = np.append(averagesPPust, averagesPPust[-1]) # 保持数组长度一致\n",
    "\n",
    "averagesPReal,averagesPPust # 10min考核点时间尺度数据，按照i，i+2考核"
   ]
  }
 ],
 "metadata": {
  "kernelspec": {
   "display_name": "CETLAB",
   "language": "python",
   "name": "python3"
  },
  "language_info": {
   "codemirror_mode": {
    "name": "ipython",
    "version": 3
   },
   "file_extension": ".py",
   "mimetype": "text/x-python",
   "name": "python",
   "nbconvert_exporter": "python",
   "pygments_lexer": "ipython3",
   "version": "3.7.16"
  }
 },
 "nbformat": 4,
 "nbformat_minor": 2
}

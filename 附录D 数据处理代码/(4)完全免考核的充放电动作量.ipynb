{
 "cells": [
  {
   "cell_type": "markdown",
   "metadata": {},
   "source": [
    "## 代码功能\n",
    "- 计算出完全免考核的的充放电动作量\n",
    "- 考虑到储能的各种参数\n",
    "- 计算速度快，有利于网格搜索\n"
   ]
  },
  {
   "cell_type": "code",
   "execution_count": 1,
   "metadata": {},
   "outputs": [],
   "source": [
    "import pandas as pd\n",
    "import numpy as np\n",
    "PReal = pd.DataFrame(pd.read_csv('std_data_5min.csv'))[\"std_realpower\"]\n",
    "# 10min考核点\n",
    "# 由5min构造10min考核点时，由于是后向平均，需要用i点和i点前一个数据求和除以二\n",
    "# 105119\n",
    "PReal = np.array(PReal)  # 确保PReal是一个numpy数组\n",
    "averages = (PReal[:-1] + PReal[1:]) / 2.0\n",
    "averages = np.append(averages, averages[-1]) # 保持数组长度一致\n",
    "import cvxpy as cp\n",
    "# 运行一年时间的数据（10万5000个数据）需要约62min，大约1小时\n",
    "# 为averages数据\n",
    "\n",
    "# 创建一个与averages同样长度的变量数组，每个元素代表对应点的调整量\n",
    "adjustments = cp.Variable(len(averages))\n",
    "\n",
    "# 目标是最小化所有调整量的平方和\n",
    "objective = cp.Minimize(cp.sum_squares(adjustments))\n",
    "\n",
    "# 约束条件，确保所有调整后的相邻点的变化量小于等于0.022\n",
    "constraints = [cp.abs(averages[i] + adjustments[i] - averages[i+2] - adjustments[i+2]) <= 0.022\n",
    "               for i in range(len(averages) - 2)]\n",
    "\n",
    "# 添加约束，确保调整后的数组首尾元素的变化量也小于等于0.022\n",
    "constraints += [cp.abs(adjustments[0] - adjustments[-1]) <= 0.022]\n",
    "\n",
    "# 定义问题并求解\n",
    "problem = cp.Problem(objective, constraints)\n",
    "problem.solve()\n",
    "\n",
    "# 打印结果\n",
    "print(\"调整量:\", adjustments.value)\n",
    "print(\"调整后的数组:\", averages + adjustments.value)\n",
    "Pc_thy = adjustments.value\n"
   ]
  },
  {
   "cell_type": "code",
   "execution_count": 1,
   "metadata": {},
   "outputs": [
    {
     "ename": "NameError",
     "evalue": "name 'pd' is not defined",
     "output_type": "error",
     "traceback": [
      "\u001b[1;31m---------------------------------------------------------------------------\u001b[0m",
      "\u001b[1;31mNameError\u001b[0m                                 Traceback (most recent call last)",
      "\u001b[1;32m~\\AppData\\Local\\Temp\\ipykernel_22336\\3991550082.py\u001b[0m in \u001b[0;36m<module>\u001b[1;34m\u001b[0m\n\u001b[0;32m      1\u001b[0m \u001b[1;31m# 创建一个DataFrame\u001b[0m\u001b[1;33m\u001b[0m\u001b[1;33m\u001b[0m\u001b[1;33m\u001b[0m\u001b[0m\n\u001b[1;32m----> 2\u001b[1;33m df = pd.DataFrame({\n\u001b[0m\u001b[0;32m      3\u001b[0m     \u001b[1;34m'Pc_thy'\u001b[0m\u001b[1;33m:\u001b[0m \u001b[0mPc_thy\u001b[0m\u001b[1;33m,\u001b[0m\u001b[1;33m\u001b[0m\u001b[1;33m\u001b[0m\u001b[0m\n\u001b[0;32m      4\u001b[0m     \u001b[1;34m'averages'\u001b[0m\u001b[1;33m:\u001b[0m \u001b[0maverages\u001b[0m\u001b[1;33m\u001b[0m\u001b[1;33m\u001b[0m\u001b[0m\n\u001b[0;32m      5\u001b[0m })\n",
      "\u001b[1;31mNameError\u001b[0m: name 'pd' is not defined"
     ]
    }
   ],
   "source": [
    "# 创建一个DataFrame\n",
    "df = pd.DataFrame({\n",
    "    'Pc_thy': Pc_thy,\n",
    "    'averages': averages\n",
    "})\n",
    "# 将DataFrame保存为CSV文件\n",
    "csv_file_path = 'std_Pc_thy.csv'\n",
    "df.to_csv(csv_file_path, index=False)\n",
    "pd.DataFrame(Pc_thy).to_csv(\"Pc_thy.csv\")"
   ]
  }
 ],
 "metadata": {
  "kernelspec": {
   "display_name": "CETLAB",
   "language": "python",
   "name": "python3"
  },
  "language_info": {
   "codemirror_mode": {
    "name": "ipython",
    "version": 3
   },
   "file_extension": ".py",
   "mimetype": "text/x-python",
   "name": "python",
   "nbconvert_exporter": "python",
   "pygments_lexer": "ipython3",
   "version": "3.7.16"
  }
 },
 "nbformat": 4,
 "nbformat_minor": 2
}

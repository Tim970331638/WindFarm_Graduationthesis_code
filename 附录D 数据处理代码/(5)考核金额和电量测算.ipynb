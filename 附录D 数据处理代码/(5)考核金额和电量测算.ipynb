{
 "cells": [
  {
   "cell_type": "markdown",
   "metadata": {},
   "source": [
    "程序功能：测算储能调节前后的考核电量和考核金额（元）。"
   ]
  },
  {
   "cell_type": "code",
   "execution_count": 4,
   "metadata": {},
   "outputs": [
    {
     "name": "stdout",
     "output_type": "stream",
     "text": [
      "考核电量为250708350.55611908kwh，考核价格为113570882.80192195元\n",
      "储能调节后，考核电量为0.0kwh，考核价格为0.0元\n"
     ]
    }
   ],
   "source": [
    "import pandas as pd\n",
    "import numpy as np\n",
    "df = pd.DataFrame(pd.read_csv('std_data_5min.csv'))\n",
    "PReal = pd.DataFrame(pd.read_csv('std_data_5min.csv'))[\"std_realpower\"]\n",
    "Pust = pd.DataFrame(pd.read_csv('std_data_5min.csv'))[\"std_ust_predpower\"]\n",
    "# 构造10min考核点\n",
    "# 由5min构造10min考核点时，由于是后向平均，需要用i点和i点前一个数据求和除以二\n",
    "# 105119\n",
    "PReal = np.array(PReal)  # 确保PReal是一个numpy数组\n",
    "averagesPReal = (PReal[:-1] + PReal[1:]) / 2.0\n",
    "averagesPReal = np.append(averagesPReal, averagesPReal[-1]) # 保持数组长度一致\n",
    "# 计算相邻10分钟的功率波动\n",
    "fluctuations = []\n",
    "for i in range(0, len(averagesPReal) - 2):  # 减2是因为我们是计算相隔10分钟（即每隔一个索引）的差值\n",
    "    fluctuation = abs(averagesPReal[i] - averagesPReal[i+2])\n",
    "    fluctuations.append(fluctuation)\n",
    "df[\"realpower_Fluctuation\"] = pd.DataFrame(fluctuations)\n",
    "# 免考核计算\n",
    "Pc_thy = pd.DataFrame(pd.read_csv('std_Pc_thy.csv'))[\"Pc_thy\"]\n",
    "ad_real = averagesPReal + Pc_thy\n",
    "# 考核电量\n",
    "Wcap = 2254.4*1000 # 风电场容量、kw作为基值的标幺单位\n",
    "Ccap = 29983520.0*0.4*0.3 # 百分之10的配储（kwh）\n",
    "Pcmax = 0.407 # 1c的储能（kw）\n",
    "Soc0 = 0.5\n",
    "Socmax = 0.97\n",
    "Socmin = 0.03\n",
    "eta = 0.932\n",
    "p = 0.453 \n",
    "deltaT = 5/60 # 单个决策点放电时间为5min尺度\n",
    "points = int(24*60/5) # 5min优化点的个数，该数值会随着时间尺度的缩小而增大，例如1min时间尺度的数据是1440个点\n",
    "threshold = 50*1000/Wcap # 因为使用了非线性求解器，需要多留一点裕度\n",
    "A = 1\n",
    "N = 1\n",
    "step = Wcap*0.1 # 储能免考核求解步长\n",
    "sum_exceed_threshold = sum(value for value in fluctuations if value > threshold)\n",
    "penalty = A*sum_exceed_threshold*10/60*p*Wcap\n",
    "print(\"考核电量为{}kwh，考核价格为{}元\".format(sum_exceed_threshold*10/60*Wcap,penalty))\n",
    "# 计算相邻10分钟的功率波动\n",
    "ad_fluctuations = []\n",
    "for i in range(0, len(ad_real) - 2):  # 减2是因为我们是计算相隔10分钟（即每隔一个索引）的差值\n",
    "    ad_fluctuation = abs(ad_real[i] - ad_real[i+2])\n",
    "    ad_fluctuations.append(ad_fluctuation)\n",
    "sum_exceed_threshold = sum(value for value in ad_fluctuations if value > threshold)\n",
    "penalty = A*sum_exceed_threshold*10/60*p*Wcap\n",
    "print(\"储能调节后，考核电量为{}kwh，考核价格为{}元\".format(sum_exceed_threshold*10/60*Wcap,penalty))"
   ]
  }
 ],
 "metadata": {
  "kernelspec": {
   "display_name": "CETLAB",
   "language": "python",
   "name": "python3"
  },
  "language_info": {
   "codemirror_mode": {
    "name": "ipython",
    "version": 3
   },
   "file_extension": ".py",
   "mimetype": "text/x-python",
   "name": "python",
   "nbconvert_exporter": "python",
   "pygments_lexer": "ipython3",
   "version": "3.7.16"
  }
 },
 "nbformat": 4,
 "nbformat_minor": 2
}
